{
 "cells": [
  {
   "cell_type": "code",
   "execution_count": 348,
   "id": "60cc7ef1",
   "metadata": {},
   "outputs": [],
   "source": [
    "q=42\n",
    "t=5\n",
    "d=1\n",
    "m=2\n",
    "n=3\n",
    "\n",
    "f= x^m +1"
   ]
  },
  {
   "cell_type": "code",
   "execution_count": 358,
   "id": "01a57886",
   "metadata": {},
   "outputs": [],
   "source": [
    "Zq.<x>=PolynomialRing(Integers(q))\n",
    "Zf.<x>=Zq.quotient(f)"
   ]
  },
  {
   "cell_type": "code",
   "execution_count": 361,
   "id": "ccb9a894",
   "metadata": {},
   "outputs": [],
   "source": [
    "def shift(l1,i):\n",
    "    l2=[0 for k in range(i)]\n",
    "    for j in range(i,len(l1)):\n",
    "        l2.append(l1[j-i])\n",
    "    return l2\n",
    "\n",
    "def Toep(p,k):\n",
    "    coeffs=p.coefficients(sparse=false)+[0 for j in range(k-1)]\n",
    "    return matrix([shift(coeffs,i) for i in range(k)])"
   ]
  },
  {
   "cell_type": "code",
   "execution_count": 362,
   "id": "80e60a99",
   "metadata": {},
   "outputs": [],
   "source": [
    "def antishift(l1,i):\n",
    "    l2=[-l1[k] for k in range(len(l1)-i,len(l1))]\n",
    "    for j in range(i,len(l1)):\n",
    "        l2.append(l1[j-i])\n",
    "    return l2\n",
    "\n",
    "def Rot(p):\n",
    "    return matrix([list(p*x^i) for i in range(f.degree())])"
   ]
  },
  {
   "cell_type": "code",
   "execution_count": 363,
   "id": "4e3e173f",
   "metadata": {},
   "outputs": [
    {
     "data": {
      "text/plain": [
       "[ 1 19]\n",
       "[23  1]"
      ]
     },
     "execution_count": 363,
     "metadata": {},
     "output_type": "execute_result"
    }
   ],
   "source": [
    "p1=Zf.random_element()\n",
    "Rot(p1)"
   ]
  },
  {
   "cell_type": "code",
   "execution_count": 364,
   "id": "5a74111e",
   "metadata": {},
   "outputs": [
    {
     "data": {
      "text/plain": [
       "[11 30 12 29 15 14  0  0]\n",
       "[ 0 11 30 12 29 15 14  0]\n",
       "[ 0  0 11 30 12 29 15 14]"
      ]
     },
     "execution_count": 364,
     "metadata": {},
     "output_type": "execute_result"
    }
   ],
   "source": [
    "p2=Zq.random_element(5)\n",
    "Toep(p2,3)"
   ]
  },
  {
   "cell_type": "code",
   "execution_count": 354,
   "id": "46594109",
   "metadata": {},
   "outputs": [],
   "source": [
    "samples = [Zf.random_element() for i in range(t)]\n",
    "random_masks = [Zq.random_element(n-m-1) for i in range(t)]\n",
    "converted_samples=[Zq(list(samples[i])) + random_masks[i]*f for i in range(t)]"
   ]
  },
  {
   "cell_type": "code",
   "execution_count": 355,
   "id": "7cbb3d47",
   "metadata": {},
   "outputs": [
    {
     "data": {
      "text/plain": [
       "[21*x + 12, 40*x + 9, 26*x + 12, 26*x + 1, 33*x + 12]"
      ]
     },
     "execution_count": 355,
     "metadata": {},
     "output_type": "execute_result"
    }
   ],
   "source": [
    "samples"
   ]
  },
  {
   "cell_type": "code",
   "execution_count": 356,
   "id": "1d355e71",
   "metadata": {},
   "outputs": [
    {
     "data": {
      "text/plain": [
       "[26, 39, 18, 34, 11]"
      ]
     },
     "execution_count": 356,
     "metadata": {},
     "output_type": "execute_result"
    }
   ],
   "source": [
    "random_masks"
   ]
  },
  {
   "cell_type": "code",
   "execution_count": 357,
   "id": "a6f125b2",
   "metadata": {},
   "outputs": [
    {
     "data": {
      "text/plain": [
       "[26*x^2 + 21*x + 38,\n",
       " 39*x^2 + 40*x + 6,\n",
       " 18*x^2 + 26*x + 30,\n",
       " 34*x^2 + 26*x + 35,\n",
       " 11*x^2 + 33*x + 23]"
      ]
     },
     "execution_count": 357,
     "metadata": {},
     "output_type": "execute_result"
    }
   ],
   "source": [
    "converted_samples"
   ]
  }
 ],
 "metadata": {
  "kernelspec": {
   "display_name": "SageMath 9.5",
   "language": "sage",
   "name": "sagemath"
  },
  "language_info": {
   "codemirror_mode": {
    "name": "ipython",
    "version": 3
   },
   "file_extension": ".py",
   "mimetype": "text/x-python",
   "name": "python",
   "nbconvert_exporter": "python",
   "pygments_lexer": "ipython3",
   "version": "3.10.6"
  }
 },
 "nbformat": 4,
 "nbformat_minor": 5
}
