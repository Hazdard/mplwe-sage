{
 "cells": [
  {
   "cell_type": "code",
   "execution_count": 154,
   "id": "1bf6ca3e",
   "metadata": {},
   "outputs": [],
   "source": [
    "q=1337\n",
    "t=5\n",
    "d=2\n",
    "n=4\n",
    "\n",
    "f= x^n +1"
   ]
  },
  {
   "cell_type": "code",
   "execution_count": 155,
   "id": "cca9d184",
   "metadata": {},
   "outputs": [],
   "source": [
    "Zq.<x>=PolynomialRing(Integers(q))\n",
    "Zf.<x>=Zq.quotient(f)"
   ]
  },
  {
   "cell_type": "code",
   "execution_count": 21,
   "id": "eb0de543",
   "metadata": {},
   "outputs": [],
   "source": [
    "def shift(l1,i):\n",
    "    l2=[0 for k in range(i)]\n",
    "    for j in range(i,len(l1)):\n",
    "        l2.append(l1[j-i])\n",
    "    return l2\n",
    "\n",
    "def Toep(p,k):\n",
    "    coeffs=p.coefficients(sparse=false)+[0 for j in range(k-1)]\n",
    "    return [shift(coeffs,i) for i in range(k)]"
   ]
  },
  {
   "cell_type": "code",
   "execution_count": 161,
   "id": "d367fc0c",
   "metadata": {},
   "outputs": [],
   "source": [
    "def antishift(l1,i):\n",
    "    l2=[-l1[k] for k in range(len(l1)-i,len(l1))]\n",
    "    for j in range(i,len(l1)):\n",
    "        l2.append(l1[j-i])\n",
    "    return l2\n",
    "\n",
    "def Rot(p):\n",
    "    return [list(p*x^i) for i in range(f.degree())]"
   ]
  },
  {
   "cell_type": "code",
   "execution_count": 213,
   "id": "1b534991",
   "metadata": {},
   "outputs": [
    {
     "data": {
      "text/plain": [
       "[[769, 1268, 1097, 612],\n",
       " [725, 769, 1268, 1097],\n",
       " [240, 725, 769, 1268],\n",
       " [69, 240, 725, 769]]"
      ]
     },
     "execution_count": 213,
     "metadata": {},
     "output_type": "execute_result"
    }
   ],
   "source": [
    "p1=Zf.random_element()\n",
    "Rot(p1)"
   ]
  },
  {
   "cell_type": "code",
   "execution_count": 212,
   "id": "86744f54",
   "metadata": {},
   "outputs": [
    {
     "data": {
      "text/plain": [
       "[[1225, 399, 288, 790, 190, 823, 0, 0],\n",
       " [0, 1225, 399, 288, 790, 190, 823, 0],\n",
       " [0, 0, 1225, 399, 288, 790, 190, 823]]"
      ]
     },
     "execution_count": 212,
     "metadata": {},
     "output_type": "execute_result"
    }
   ],
   "source": [
    "p2=Zq.random_element(5)\n",
    "Toep(p2,3)"
   ]
  }
 ],
 "metadata": {
  "kernelspec": {
   "display_name": "SageMath 9.5",
   "language": "sage",
   "name": "sagemath"
  },
  "language_info": {
   "codemirror_mode": {
    "name": "ipython",
    "version": 3
   },
   "file_extension": ".py",
   "mimetype": "text/x-python",
   "name": "python",
   "nbconvert_exporter": "python",
   "pygments_lexer": "ipython3",
   "version": "3.10.6"
  }
 },
 "nbformat": 4,
 "nbformat_minor": 5
}
