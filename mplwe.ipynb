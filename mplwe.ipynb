{
 "cells": [
  {
   "cell_type": "code",
   "execution_count": 74,
   "id": "c7623996",
   "metadata": {},
   "outputs": [],
   "source": [
    "from sage.modules.free_module_integer import IntegerLattice\n",
    "\n",
    "n=5\n",
    "p=next_prime(n)\n",
    "d=3\n",
    "m=4\n",
    "t=2"
   ]
  },
  {
   "cell_type": "code",
   "execution_count": 75,
   "id": "fde31688",
   "metadata": {},
   "outputs": [],
   "source": [
    "Zq.<x>=PolynomialRing(Integers(p))\n",
    "f= x^m +1\n",
    "Zf.<y>=Zq.quotient(f)"
   ]
  },
  {
   "cell_type": "code",
   "execution_count": 76,
   "id": "f21054cc",
   "metadata": {},
   "outputs": [],
   "source": [
    "def proj(mat):\n",
    "    return matrix(mat.rows()[:d])"
   ]
  },
  {
   "cell_type": "code",
   "execution_count": 77,
   "id": "f65e34ee",
   "metadata": {},
   "outputs": [],
   "source": [
    "def shift(l1,i):\n",
    "    l2=[0 for k in range(i)]\n",
    "    for j in range(i,len(l1)):\n",
    "        l2.append(l1[j-i])\n",
    "    return l2\n",
    "\n",
    "def Toep(p,k):\n",
    "    coeffs=p.coefficients(sparse=false)+[0 for j in range(k-1)]\n",
    "    return matrix([shift(coeffs,i) for i in range(k)])"
   ]
  },
  {
   "cell_type": "code",
   "execution_count": 78,
   "id": "21d0341f",
   "metadata": {},
   "outputs": [],
   "source": [
    "def antishift(l1,i):\n",
    "    l2=[-l1[k] for k in range(len(l1)-i,len(l1))]\n",
    "    for j in range(i,len(l1)):\n",
    "        l2.append(l1[j-i])\n",
    "    return l2\n",
    "\n",
    "def Rot(p):\n",
    "    return matrix([list(p*y^i) for i in range(m)])"
   ]
  },
  {
   "cell_type": "code",
   "execution_count": 83,
   "id": "a19ed7b0",
   "metadata": {},
   "outputs": [],
   "source": [
    "def lattices_gen(t):\n",
    "    samples = [Zf.random_element() for i in range(t)]\n",
    "    random_masks = [Zq.random_element(n-m-1) for i in range(t)]\n",
    "    converted_samples=[Zq(list(samples[i])) + random_masks[i]*f for i in range(t)]\n",
    "    \n",
    "    L0=Rot(samples[0])\n",
    "    L0=L0.transpose()\n",
    "    for i in range(1,t):\n",
    "        L0 = L0.augment(Rot(samples[i]).transpose())\n",
    "    L0=L0.transpose()\n",
    "    \n",
    "    L1 = proj(Rot(samples[0]))\n",
    "    L1 = L1.transpose()\n",
    "    for i in range(1,t):\n",
    "        L1 = L1.augment(proj(Rot(samples[i])).transpose())\n",
    "    L1=L1.transpose()\n",
    "    \n",
    "    L2 = Toep(converted_samples[0],d)\n",
    "    L2 = L2.transpose()\n",
    "    for i in range(1,t):\n",
    "        L2 = L2.augment(Toep(converted_samples[i],d).transpose())\n",
    "    L2 = L2.transpose()\n",
    "    return(L0,L1,L2)"
   ]
  },
  {
   "cell_type": "code",
   "execution_count": 80,
   "id": "3d1f739b",
   "metadata": {},
   "outputs": [],
   "source": [
    "def vol(nb) :\n",
    "    s0=0\n",
    "    s1=0\n",
    "    s2=0\n",
    "    V0=[]\n",
    "    V1=[]\n",
    "    V2=[]\n",
    "    for i in range (nb) : \n",
    "        L0,L1,L2 = lattices_gen(t)\n",
    "        L0=matrix(ZZ,L0)\n",
    "        L1=matrix(ZZ,L1)\n",
    "        L2=matrix(ZZ,L2)\n",
    "        L1=IntegerLattice(L0.augment(p*matrix.identity(m*t)).transpose())\n",
    "        L1=IntegerLattice(L1.augment(p*matrix.identity(d*t)).transpose())\n",
    "        L2=IntegerLattice(L2.augment(p*matrix.identity(d*t)).transpose())\n",
    "        vol0=L0.volume()\n",
    "        vol1=L1.volume()\n",
    "        vol2=L2.volume()\n",
    "        s0+=vol0\n",
    "        s1+=vol1\n",
    "        s2+=vol2\n",
    "        V0.append(s0/(i+1))\n",
    "        V1.append(s1/(i+1))\n",
    "        V2.append(s2/(i+1))\n",
    "    return(V0[-1],V1[-1],V2[-1])"
   ]
  },
  {
   "cell_type": "code",
   "execution_count": 133,
   "id": "aaccedfb",
   "metadata": {},
   "outputs": [
    {
     "name": "stdout",
     "output_type": "stream",
     "text": [
      "--- Paramètres ---\n",
      "n : 30\n",
      "d : 15\n",
      "m : 16\n",
      "t : 3\n",
      "p : 103\n",
      "--- Dimensions ---\n",
      "Nombre de colonnes dans L2 : 44\n",
      "Nombre de lignes dans L2 : 45\n"
     ]
    }
   ],
   "source": [
    "# Il faut n => 21 sinon ça marche pas\n",
    "puiss = 1  \n",
    "n=30\n",
    "p=next_prime(int((n**(puiss))*log(n)))\n",
    "m=16\n",
    "d=n//2\n",
    "t=int(log(n))\n",
    "Zp.<x>=PolynomialRing(Integers(p))\n",
    "print(\"--- Paramètres ---\")\n",
    "print(\"n :\",n)\n",
    "print(\"d :\",d)\n",
    "print(\"m :\", m)\n",
    "print(\"t :\",t)\n",
    "print(\"p :\",p)\n",
    "print(\"--- Dimensions ---\")\n",
    "print(\"Nombre de colonnes dans L2 :\",n+d-1)\n",
    "print(\"Nombre de lignes dans L2 :\",t*d)"
   ]
  },
  {
   "cell_type": "code",
   "execution_count": 138,
   "id": "6b871b98",
   "metadata": {},
   "outputs": [
    {
     "name": "stdout",
     "output_type": "stream",
     "text": [
      "--- Dans L0 ---\n",
      "Volume du réseau : 2.57508275568511e64\n",
      "Vecteur le plus court : (3, -3, 2, 3, -3, -4, -2, 4, 3, -3, 2, 3, -3, -4, -2, 4, 0, -4, 5, 1, 0, 4, -5, -1, 0, -4, 5, 1, 0, 4, -5, -1, 0, 0, -5, 0, 0, 0, 5, 0, 0, 0, -5, 0, 0, 0, 5, 0)\n",
      "Borne sup de Minkowski = 152.234155306880\n",
      "Norme = 20.4939015319192\n",
      "Borne inf de l'heuristique gaussienne = 36.8362088561656 \n",
      "\n",
      "--- Dans L1 ---\n",
      "Volume du réseau : 2.35656550600938e58\n",
      "Vecteur le plus court : (3, -3, 2, 3, -3, -4, -2, 4, 3, -3, 2, 3, -3, -4, -2, 0, -4, 5, 1, 0, 4, -5, -1, 0, -4, 5, 1, 0, 4, -5, 0, 0, -5, 0, 0, 0, 5, 0, 0, 0, -5, 0, 0, 0, 5)\n",
      "Borne sup de Minkowski = 132.974395261259\n",
      "Norme = 20.0748598998847\n",
      "Borne inf de l'heuristique gaussienne = 32.1759107638618 \n",
      "\n",
      "--- Dans L2 ---\n",
      "Volume du réseau : 103.000000000000\n",
      "Vecteur le plus court : (3, 0, 0, 0, 0, 0, 0, 0, 0, 0, 0, 0, 0, 0, 0, 2, 0, 0, 0, 0, 0, 0, 0, 0, 0, 0, 0, 0, 0, 0, 2, 0, 0, 0, 0, 0, 0, 0, 0, 0, 0, 0, 0, 0, 0)\n",
      "Borne sup de Minkowski = 7.43594164653259\n",
      "Norme = 4.12310562561766\n",
      "Borne inf de l'heuristique gaussienne = 1.79928018769356\n"
     ]
    }
   ],
   "source": [
    "L0,L1,L2 = lattices_gen(t) \n",
    "L0=matrix(ZZ,L0)\n",
    "L1=matrix(ZZ,L1)\n",
    "L2=matrix(ZZ,L2)\n",
    "\n",
    "L0=IntegerLattice(L0.augment(p*matrix.identity(m*t)).transpose())\n",
    "L1=IntegerLattice(L1.augment(p*matrix.identity(d*t)).transpose())\n",
    "L2=IntegerLattice(L2.augment(p*matrix.identity(d*t)).transpose())\n",
    "\n",
    "vol0_th=p**(m*(t-1))\n",
    "vol1_th=p**(t*d-m)\n",
    "vol2_th=p**(t*d-(n+d-1))\n",
    "\n",
    "print(\"--- Dans L0 ---\")\n",
    "print(\"Volume du réseau :\", RR(vol0_th))\n",
    "print(\"Vecteur le plus court :\",L0.shortest_vector())\n",
    "print(\"Borne sup de Minkowski =\",RR(sqrt(t*m)*vol0_th**(1/(t*m))))\n",
    "print(\"Norme =\",RR((L0.shortest_vector()).norm()))\n",
    "print(\"Borne inf de l'heuristique gaussienne =\",RR(sqrt((t*m)/(2*pi*e))*vol0_th**(1/(t*m))),\"\\n\")\n",
    "\n",
    "print(\"--- Dans L1 ---\")\n",
    "print(\"Volume du réseau :\", RR(vol1_th))\n",
    "print(\"Vecteur le plus court :\",L1.shortest_vector())\n",
    "print(\"Borne sup de Minkowski =\",RR(sqrt(t*d)*vol1_th**(1/(t*d))))\n",
    "print(\"Norme =\",RR((L1.shortest_vector()).norm()))\n",
    "print(\"Borne inf de l'heuristique gaussienne =\",RR(sqrt((t*d)/(2*pi*e))*vol1_th**(1/(t*d))),\"\\n\")\n",
    "\n",
    "print(\"--- Dans L2 ---\")\n",
    "print(\"Volume du réseau :\", RR(vol2_th))\n",
    "print(\"Vecteur le plus court :\",L2.shortest_vector())\n",
    "print(\"Borne sup de Minkowski =\",RR(sqrt(t*d)*vol2_th**(1/(t*d))))\n",
    "print(\"Norme =\",RR((L2.shortest_vector()).norm()))\n",
    "print(\"Borne inf de l'heuristique gaussienne =\",RR(sqrt((t*d)/(2*pi*e))*vol2_th**(1/(t*d))))"
   ]
  }
 ],
 "metadata": {
  "kernelspec": {
   "display_name": "SageMath 9.5",
   "language": "sage",
   "name": "sagemath"
  },
  "language_info": {
   "codemirror_mode": {
    "name": "ipython",
    "version": 3
   },
   "file_extension": ".py",
   "mimetype": "text/x-python",
   "name": "python",
   "nbconvert_exporter": "python",
   "pygments_lexer": "ipython3",
   "version": "3.10.6"
  }
 },
 "nbformat": 4,
 "nbformat_minor": 5
}
