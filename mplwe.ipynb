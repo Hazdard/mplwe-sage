{
 "cells": [
  {
   "cell_type": "code",
   "execution_count": 448,
   "id": "e1ced519",
   "metadata": {},
   "outputs": [],
   "source": [
    "q=47\n",
    "t=5\n",
    "d=1\n",
    "m=2\n",
    "n=3\n",
    "\n",
    "f= x^m +1"
   ]
  },
  {
   "cell_type": "code",
   "execution_count": 449,
   "id": "04078e80",
   "metadata": {},
   "outputs": [],
   "source": [
    "Zq.<x>=PolynomialRing(Integers(q))\n",
    "Zf.<x>=Zq.quotient(f)"
   ]
  },
  {
   "cell_type": "code",
   "execution_count": 450,
   "id": "b5e667f6",
   "metadata": {},
   "outputs": [],
   "source": [
    "def proj(mat):\n",
    "    return matrix(mat.rows()[:d])"
   ]
  },
  {
   "cell_type": "code",
   "execution_count": 451,
   "id": "341b49e1",
   "metadata": {},
   "outputs": [],
   "source": [
    "def shift(l1,i):\n",
    "    l2=[0 for k in range(i)]\n",
    "    for j in range(i,len(l1)):\n",
    "        l2.append(l1[j-i])\n",
    "    return l2\n",
    "\n",
    "def Toep(p,k):\n",
    "    coeffs=p.coefficients(sparse=false)+[0 for j in range(k-1)]\n",
    "    return matrix([shift(coeffs,i) for i in range(k)])"
   ]
  },
  {
   "cell_type": "code",
   "execution_count": 452,
   "id": "6fe125b7",
   "metadata": {},
   "outputs": [],
   "source": [
    "def antishift(l1,i):\n",
    "    l2=[-l1[k] for k in range(len(l1)-i,len(l1))]\n",
    "    for j in range(i,len(l1)):\n",
    "        l2.append(l1[j-i])\n",
    "    return l2\n",
    "\n",
    "def Rot(p):\n",
    "    return matrix([list(p*x^i) for i in range(f.degree())])"
   ]
  },
  {
   "cell_type": "code",
   "execution_count": 453,
   "id": "51a9bb1c",
   "metadata": {},
   "outputs": [
    {
     "data": {
      "text/plain": [
       "[38 39]\n",
       "[ 8 38]"
      ]
     },
     "execution_count": 453,
     "metadata": {},
     "output_type": "execute_result"
    }
   ],
   "source": [
    "p1=Zf.random_element()\n",
    "Rot(p1)"
   ]
  },
  {
   "cell_type": "code",
   "execution_count": 454,
   "id": "bf9ffd01",
   "metadata": {},
   "outputs": [
    {
     "data": {
      "text/plain": [
       "[ 5 17 39 41 36 13  0  0]\n",
       "[ 0  5 17 39 41 36 13  0]\n",
       "[ 0  0  5 17 39 41 36 13]"
      ]
     },
     "execution_count": 454,
     "metadata": {},
     "output_type": "execute_result"
    }
   ],
   "source": [
    "p2=Zq.random_element(5)\n",
    "Toep(p2,3)"
   ]
  },
  {
   "cell_type": "code",
   "execution_count": 455,
   "id": "2a7ec53b",
   "metadata": {},
   "outputs": [],
   "source": [
    "samples = [Zf.random_element() for i in range(t)]\n",
    "random_masks = [Zq.random_element(n-m-1) for i in range(t)]\n",
    "converted_samples=[Zq(list(samples[i])) + random_masks[i]*f for i in range(t)]"
   ]
  },
  {
   "cell_type": "code",
   "execution_count": 456,
   "id": "980c94d9",
   "metadata": {},
   "outputs": [
    {
     "data": {
      "text/plain": [
       "[6*x + 36, 34*x + 7, 24*x + 38, 31*x + 27, 6*x + 12]"
      ]
     },
     "execution_count": 456,
     "metadata": {},
     "output_type": "execute_result"
    }
   ],
   "source": [
    "samples"
   ]
  },
  {
   "cell_type": "code",
   "execution_count": 457,
   "id": "e73c88e2",
   "metadata": {},
   "outputs": [
    {
     "data": {
      "text/plain": [
       "[30, 13, 2, 29, 32]"
      ]
     },
     "execution_count": 457,
     "metadata": {},
     "output_type": "execute_result"
    }
   ],
   "source": [
    "random_masks"
   ]
  },
  {
   "cell_type": "code",
   "execution_count": 458,
   "id": "2602c392",
   "metadata": {},
   "outputs": [
    {
     "data": {
      "text/plain": [
       "[30*x^2 + 6*x + 19,\n",
       " 13*x^2 + 34*x + 20,\n",
       " 2*x^2 + 24*x + 40,\n",
       " 29*x^2 + 31*x + 9,\n",
       " 32*x^2 + 6*x + 44]"
      ]
     },
     "execution_count": 458,
     "metadata": {},
     "output_type": "execute_result"
    }
   ],
   "source": [
    "converted_samples"
   ]
  },
  {
   "cell_type": "code",
   "execution_count": 459,
   "id": "9d523925",
   "metadata": {},
   "outputs": [
    {
     "data": {
      "text/plain": [
       "[36  6]\n",
       "[ 7 34]\n",
       "[38 24]\n",
       "[27 31]\n",
       "[12  6]"
      ]
     },
     "execution_count": 459,
     "metadata": {},
     "output_type": "execute_result"
    }
   ],
   "source": [
    "L1 = proj(Rot(samples[0]))\n",
    "L1 = L1.transpose()\n",
    "for i in range(1,t):\n",
    "    L1 = L1.augment(proj(Rot(samples[i])).transpose())\n",
    "L1.transpose()"
   ]
  },
  {
   "cell_type": "code",
   "execution_count": 460,
   "id": "61fdb6fb",
   "metadata": {},
   "outputs": [
    {
     "data": {
      "text/plain": [
       "[19  6 30]\n",
       "[20 34 13]\n",
       "[40 24  2]\n",
       "[ 9 31 29]\n",
       "[44  6 32]"
      ]
     },
     "execution_count": 460,
     "metadata": {},
     "output_type": "execute_result"
    }
   ],
   "source": [
    "L2 = Toep(converted_samples[0],d)\n",
    "L2 = L2.transpose()\n",
    "for i in range(1,t):\n",
    "    L2 = L2.augment(Toep(converted_samples[i],d).transpose())\n",
    "L2.transpose()"
   ]
  },
  {
   "cell_type": "code",
   "execution_count": 463,
   "id": "78378c30",
   "metadata": {},
   "outputs": [
    {
     "name": "stdout",
     "output_type": "stream",
     "text": [
      "2 3\n"
     ]
    }
   ],
   "source": [
    "print(L1.rank(),L2.rank())"
   ]
  }
 ],
 "metadata": {
  "kernelspec": {
   "display_name": "SageMath 9.5",
   "language": "sage",
   "name": "sagemath"
  },
  "language_info": {
   "codemirror_mode": {
    "name": "ipython",
    "version": 3
   },
   "file_extension": ".py",
   "mimetype": "text/x-python",
   "name": "python",
   "nbconvert_exporter": "python",
   "pygments_lexer": "ipython3",
   "version": "3.10.6"
  }
 },
 "nbformat": 4,
 "nbformat_minor": 5
}
