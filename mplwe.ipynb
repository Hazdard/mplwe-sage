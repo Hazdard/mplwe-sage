{
 "cells": [
  {
   "cell_type": "code",
   "execution_count": 109,
   "id": "c7623996",
   "metadata": {},
   "outputs": [],
   "source": [
    "q=65537\n",
    "d=10\n",
    "m=16\n",
    "n=20\n",
    "\n",
    "f= x^m +1"
   ]
  },
  {
   "cell_type": "code",
   "execution_count": 110,
   "id": "fde31688",
   "metadata": {},
   "outputs": [],
   "source": [
    "Zq.<x>=PolynomialRing(Integers(q))\n",
    "Zf.<x>=Zq.quotient(f)"
   ]
  },
  {
   "cell_type": "code",
   "execution_count": 111,
   "id": "f21054cc",
   "metadata": {},
   "outputs": [],
   "source": [
    "def proj(mat):\n",
    "    return matrix(mat.rows()[:d])"
   ]
  },
  {
   "cell_type": "code",
   "execution_count": 112,
   "id": "f65e34ee",
   "metadata": {},
   "outputs": [],
   "source": [
    "def shift(l1,i):\n",
    "    l2=[0 for k in range(i)]\n",
    "    for j in range(i,len(l1)):\n",
    "        l2.append(l1[j-i])\n",
    "    return l2\n",
    "\n",
    "def Toep(p,k):\n",
    "    coeffs=p.coefficients(sparse=false)+[0 for j in range(k-1)]\n",
    "    return matrix([shift(coeffs,i) for i in range(k)])"
   ]
  },
  {
   "cell_type": "code",
   "execution_count": 113,
   "id": "21d0341f",
   "metadata": {},
   "outputs": [],
   "source": [
    "def antishift(l1,i):\n",
    "    l2=[-l1[k] for k in range(len(l1)-i,len(l1))]\n",
    "    for j in range(i,len(l1)):\n",
    "        l2.append(l1[j-i])\n",
    "    return l2\n",
    "\n",
    "def Rot(p):\n",
    "    return matrix([list(p*x^i) for i in range(f.degree())])"
   ]
  },
  {
   "cell_type": "code",
   "execution_count": 114,
   "id": "a19ed7b0",
   "metadata": {},
   "outputs": [],
   "source": [
    "def lattices_gen(t):\n",
    "    samples = [Zf.random_element() for i in range(t)]\n",
    "    random_masks = [Zq.random_element(n-m-1) for i in range(t)]\n",
    "    converted_samples=[Zq(list(samples[i])) + random_masks[i]*f for i in range(t)]\n",
    "    \n",
    "    L1 = proj(Rot(samples[0]))\n",
    "    L1 = L1.transpose()\n",
    "    for i in range(1,t):\n",
    "        L1 = L1.augment(proj(Rot(samples[i])).transpose())\n",
    "    L1=L1.transpose()\n",
    "    \n",
    "    L2 = Toep(converted_samples[0],d)\n",
    "    L2 = L2.transpose()\n",
    "    for i in range(1,t):\n",
    "        L2 = L2.augment(Toep(converted_samples[i],d).transpose())\n",
    "    L2 = L2.transpose()\n",
    "    \n",
    "    return(L1,L2)"
   ]
  },
  {
   "cell_type": "code",
   "execution_count": 149,
   "id": "90de7d69",
   "metadata": {},
   "outputs": [
    {
     "name": "stdout",
     "output_type": "stream",
     "text": [
      "16 29\n"
     ]
    }
   ],
   "source": [
    "L1,L2 = lattices_gen(3) \n",
    "print(L1.rank(),L2.rank())"
   ]
  }
 ],
 "metadata": {
  "kernelspec": {
   "display_name": "SageMath 9.5",
   "language": "sage",
   "name": "sagemath"
  },
  "language_info": {
   "codemirror_mode": {
    "name": "ipython",
    "version": 3
   },
   "file_extension": ".py",
   "mimetype": "text/x-python",
   "name": "python",
   "nbconvert_exporter": "python",
   "pygments_lexer": "ipython3",
   "version": "3.10.6"
  }
 },
 "nbformat": 4,
 "nbformat_minor": 5
}
