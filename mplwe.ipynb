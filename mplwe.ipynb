{
 "cells": [
  {
   "cell_type": "code",
   "execution_count": 7,
   "id": "c7623996",
   "metadata": {},
   "outputs": [],
   "source": [
    "from sage.modules.free_module_integer import IntegerLattice\n",
    "\n",
    "p=53\n",
    "n=10\n",
    "d=5\n",
    "m=8"
   ]
  },
  {
   "cell_type": "code",
   "execution_count": 8,
   "id": "fde31688",
   "metadata": {},
   "outputs": [],
   "source": [
    "Zq.<x>=PolynomialRing(Integers(p))\n",
    "f= x^m +1\n",
    "Zf.<y>=Zq.quotient(f)"
   ]
  },
  {
   "cell_type": "code",
   "execution_count": 9,
   "id": "f21054cc",
   "metadata": {},
   "outputs": [],
   "source": [
    "def proj(mat):\n",
    "    return matrix(mat.rows()[:d])"
   ]
  },
  {
   "cell_type": "code",
   "execution_count": 10,
   "id": "f65e34ee",
   "metadata": {},
   "outputs": [],
   "source": [
    "def shift(l1,i):\n",
    "    l2=[0 for k in range(i)]\n",
    "    for j in range(i,len(l1)):\n",
    "        l2.append(l1[j-i])\n",
    "    return l2\n",
    "\n",
    "def Toep(p,k):\n",
    "    coeffs=p.coefficients(sparse=false)+[0 for j in range(k-1)]\n",
    "    return matrix([shift(coeffs,i) for i in range(k)])"
   ]
  },
  {
   "cell_type": "code",
   "execution_count": 11,
   "id": "21d0341f",
   "metadata": {},
   "outputs": [],
   "source": [
    "def antishift(l1,i):\n",
    "    l2=[-l1[k] for k in range(len(l1)-i,len(l1))]\n",
    "    for j in range(i,len(l1)):\n",
    "        l2.append(l1[j-i])\n",
    "    return l2\n",
    "\n",
    "def Rot(p):\n",
    "    return matrix([list(p*y^i) for i in range(m)])"
   ]
  },
  {
   "cell_type": "code",
   "execution_count": 12,
   "id": "a19ed7b0",
   "metadata": {},
   "outputs": [],
   "source": [
    "def lattices_gen(t):\n",
    "    samples = [Zf.random_element() for i in range(t)]\n",
    "    random_masks = [Zq.random_element(n-m-1) for i in range(t)]\n",
    "    converted_samples=[Zq(list(samples[i])) + random_masks[i]*f for i in range(t)]\n",
    "    \n",
    "    L1 = proj(Rot(samples[0]))\n",
    "    L1 = L1.transpose()\n",
    "    for i in range(1,t):\n",
    "        L1 = L1.augment(proj(Rot(samples[i])).transpose())\n",
    "    L1=L1.transpose()\n",
    "    \n",
    "    L2 = Toep(converted_samples[0],d)\n",
    "    L2 = L2.transpose()\n",
    "    for i in range(1,t):\n",
    "        L2 = L2.augment(Toep(converted_samples[i],d).transpose())\n",
    "    L2 = L2.transpose()\n",
    "    return(L1,L2)"
   ]
  },
  {
   "cell_type": "code",
   "execution_count": 13,
   "id": "3d1f739b",
   "metadata": {},
   "outputs": [],
   "source": [
    "s1=0\n",
    "s2=0\n",
    "r=1\n",
    "V1=[]\n",
    "V2=[]\n",
    "for i in range (10) : \n",
    "    L1,L2 = lattices_gen(3)\n",
    "    L1=matrix(ZZ,L1)\n",
    "    L2=matrix(ZZ,L2)\n",
    "    L1=IntegerLattice(L1.augment(p*matrix.identity(d*3)).transpose())\n",
    "    L2=IntegerLattice(L2.augment(p*matrix.identity(d*3)).transpose())\n",
    "    vol1=L1.volume()\n",
    "    vol2=L2.volume()\n",
    "    s1+=vol1\n",
    "    s2+=vol2\n",
    "    V1.append(s1/(i+1))\n",
    "    V2.append(s2/(i+1))"
   ]
  },
  {
   "cell_type": "code",
   "execution_count": 17,
   "id": "19646fac",
   "metadata": {},
   "outputs": [
    {
     "name": "stdout",
     "output_type": "stream",
     "text": [
      "1174711139837 53 22164361129\n"
     ]
    }
   ],
   "source": [
    "print(V1[-1],V2[-1],V1[-1]/V2[-1])"
   ]
  }
 ],
 "metadata": {
  "kernelspec": {
   "display_name": "SageMath 9.5",
   "language": "sage",
   "name": "sagemath"
  },
  "language_info": {
   "codemirror_mode": {
    "name": "ipython",
    "version": 3
   },
   "file_extension": ".py",
   "mimetype": "text/x-python",
   "name": "python",
   "nbconvert_exporter": "python",
   "pygments_lexer": "ipython3",
   "version": "3.10.6"
  }
 },
 "nbformat": 4,
 "nbformat_minor": 5
}
