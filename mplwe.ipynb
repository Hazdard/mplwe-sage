{
 "cells": [
  {
   "cell_type": "code",
   "execution_count": 14,
   "id": "d6da4fea",
   "metadata": {},
   "outputs": [],
   "source": [
    "q=47\n",
    "d=2\n",
    "m=3\n",
    "n=4\n",
    "\n",
    "f= x^m +1"
   ]
  },
  {
   "cell_type": "code",
   "execution_count": 15,
   "id": "a95950cf",
   "metadata": {},
   "outputs": [],
   "source": [
    "Zq.<x>=PolynomialRing(Integers(q))\n",
    "Zf.<x>=Zq.quotient(f)"
   ]
  },
  {
   "cell_type": "code",
   "execution_count": 16,
   "id": "665e654b",
   "metadata": {},
   "outputs": [],
   "source": [
    "def proj(mat):\n",
    "    return matrix(mat.rows()[:d])"
   ]
  },
  {
   "cell_type": "code",
   "execution_count": 17,
   "id": "3eb05340",
   "metadata": {},
   "outputs": [],
   "source": [
    "def shift(l1,i):\n",
    "    l2=[0 for k in range(i)]\n",
    "    for j in range(i,len(l1)):\n",
    "        l2.append(l1[j-i])\n",
    "    return l2\n",
    "\n",
    "def Toep(p,k):\n",
    "    coeffs=p.coefficients(sparse=false)+[0 for j in range(k-1)]\n",
    "    return matrix([shift(coeffs,i) for i in range(k)])"
   ]
  },
  {
   "cell_type": "code",
   "execution_count": 18,
   "id": "98f7d5b6",
   "metadata": {},
   "outputs": [],
   "source": [
    "def antishift(l1,i):\n",
    "    l2=[-l1[k] for k in range(len(l1)-i,len(l1))]\n",
    "    for j in range(i,len(l1)):\n",
    "        l2.append(l1[j-i])\n",
    "    return l2\n",
    "\n",
    "def Rot(p):\n",
    "    return matrix([list(p*x^i) for i in range(f.degree())])"
   ]
  },
  {
   "cell_type": "code",
   "execution_count": 19,
   "id": "45dba9ba",
   "metadata": {},
   "outputs": [
    {
     "data": {
      "text/plain": [
       "[26 21 30]\n",
       "[17 26 21]\n",
       "[26 17 26]"
      ]
     },
     "execution_count": 19,
     "metadata": {},
     "output_type": "execute_result"
    }
   ],
   "source": [
    "p1=Zf.random_element()\n",
    "Rot(p1)"
   ]
  },
  {
   "cell_type": "code",
   "execution_count": 20,
   "id": "877aeec0",
   "metadata": {},
   "outputs": [
    {
     "data": {
      "text/plain": [
       "[12 35  2 34 40 12  0  0]\n",
       "[ 0 12 35  2 34 40 12  0]\n",
       "[ 0  0 12 35  2 34 40 12]"
      ]
     },
     "execution_count": 20,
     "metadata": {},
     "output_type": "execute_result"
    }
   ],
   "source": [
    "p2=Zq.random_element(5)\n",
    "Toep(p2,3)"
   ]
  },
  {
   "cell_type": "code",
   "execution_count": 35,
   "id": "45345ea8",
   "metadata": {},
   "outputs": [],
   "source": [
    "def lattices_gen(t):\n",
    "    samples = [Zf.random_element() for i in range(t)]\n",
    "    random_masks = [Zq.random_element(n-m-1) for i in range(t)]\n",
    "    converted_samples=[Zq(list(samples[i])) + random_masks[i]*f for i in range(t)]\n",
    "    \n",
    "    L1 = proj(Rot(samples[0]))\n",
    "    L1 = L1.transpose()\n",
    "    for i in range(1,t):\n",
    "        L1 = L1.augment(proj(Rot(samples[i])).transpose())\n",
    "    L1=L1.transpose()\n",
    "    \n",
    "    L2 = Toep(converted_samples[0],d)\n",
    "    L2 = L2.transpose()\n",
    "    for i in range(1,t):\n",
    "        L2 = L2.augment(Toep(converted_samples[i],d).transpose())\n",
    "    L2 = L2.transpose()\n",
    "    \n",
    "    return(L1,L2)"
   ]
  },
  {
   "cell_type": "code",
   "execution_count": 38,
   "id": "c3d446f8",
   "metadata": {},
   "outputs": [
    {
     "name": "stdout",
     "output_type": "stream",
     "text": [
      "2 2\n"
     ]
    }
   ],
   "source": [
    "L1,L2 = lattices_gen(1) \n",
    "print(L1.rank(),L2.rank())"
   ]
  }
 ],
 "metadata": {
  "kernelspec": {
   "display_name": "SageMath 9.5",
   "language": "sage",
   "name": "sagemath"
  },
  "language_info": {
   "codemirror_mode": {
    "name": "ipython",
    "version": 3
   },
   "file_extension": ".py",
   "mimetype": "text/x-python",
   "name": "python",
   "nbconvert_exporter": "python",
   "pygments_lexer": "ipython3",
   "version": "3.10.6"
  }
 },
 "nbformat": 4,
 "nbformat_minor": 5
}
