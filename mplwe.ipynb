{
 "cells": [
  {
   "cell_type": "code",
   "execution_count": 348,
   "id": "e165a5d1",
   "metadata": {},
   "outputs": [],
   "source": [
    "q=42\n",
    "t=5\n",
    "d=1\n",
    "m=2\n",
    "n=3\n",
    "\n",
    "f= x^m +1"
   ]
  },
  {
   "cell_type": "code",
   "execution_count": 358,
   "id": "13d49197",
   "metadata": {},
   "outputs": [],
   "source": [
    "Zq.<x>=PolynomialRing(Integers(q))\n",
    "Zf.<x>=Zq.quotient(f)"
   ]
  },
  {
   "cell_type": "code",
   "execution_count": 350,
   "id": "74dd204b",
   "metadata": {},
   "outputs": [],
   "source": [
    "def shift(l1,i):\n",
    "    l2=[0 for k in range(i)]\n",
    "    for j in range(i,len(l1)):\n",
    "        l2.append(l1[j-i])\n",
    "    return l2\n",
    "\n",
    "def Toep(p,k):\n",
    "    coeffs=p.coefficients(sparse=false)+[0 for j in range(k-1)]\n",
    "    return [shift(coeffs,i) for i in range(k)]"
   ]
  },
  {
   "cell_type": "code",
   "execution_count": 351,
   "id": "2bae3048",
   "metadata": {},
   "outputs": [],
   "source": [
    "def antishift(l1,i):\n",
    "    l2=[-l1[k] for k in range(len(l1)-i,len(l1))]\n",
    "    for j in range(i,len(l1)):\n",
    "        l2.append(l1[j-i])\n",
    "    return l2\n",
    "\n",
    "def Rot(p):\n",
    "    return [list(p*x^i) for i in range(f.degree())]"
   ]
  },
  {
   "cell_type": "code",
   "execution_count": 352,
   "id": "abafcbe9",
   "metadata": {},
   "outputs": [
    {
     "data": {
      "text/plain": [
       "[[31, 5], [37, 31]]"
      ]
     },
     "execution_count": 352,
     "metadata": {},
     "output_type": "execute_result"
    }
   ],
   "source": [
    "p1=Zf.random_element()\n",
    "Rot(p1)"
   ]
  },
  {
   "cell_type": "code",
   "execution_count": 353,
   "id": "f2bd3361",
   "metadata": {},
   "outputs": [
    {
     "data": {
      "text/plain": [
       "[[21, 22, 36, 15, 19, 36, 0, 0],\n",
       " [0, 21, 22, 36, 15, 19, 36, 0],\n",
       " [0, 0, 21, 22, 36, 15, 19, 36]]"
      ]
     },
     "execution_count": 353,
     "metadata": {},
     "output_type": "execute_result"
    }
   ],
   "source": [
    "p2=Zq.random_element(5)\n",
    "Toep(p2,3)"
   ]
  },
  {
   "cell_type": "code",
   "execution_count": 354,
   "id": "6d8c2f14",
   "metadata": {},
   "outputs": [],
   "source": [
    "samples = [Zf.random_element() for i in range(t)]\n",
    "random_masks = [Zq.random_element(n-m-1) for i in range(t)]\n",
    "converted_samples=[Zq(list(samples[i])) + random_masks[i]*f for i in range(t)]"
   ]
  },
  {
   "cell_type": "code",
   "execution_count": 355,
   "id": "8871dada",
   "metadata": {},
   "outputs": [
    {
     "data": {
      "text/plain": [
       "[21*x + 12, 40*x + 9, 26*x + 12, 26*x + 1, 33*x + 12]"
      ]
     },
     "execution_count": 355,
     "metadata": {},
     "output_type": "execute_result"
    }
   ],
   "source": [
    "samples"
   ]
  },
  {
   "cell_type": "code",
   "execution_count": 356,
   "id": "4b6c28a7",
   "metadata": {},
   "outputs": [
    {
     "data": {
      "text/plain": [
       "[26, 39, 18, 34, 11]"
      ]
     },
     "execution_count": 356,
     "metadata": {},
     "output_type": "execute_result"
    }
   ],
   "source": [
    "random_masks"
   ]
  },
  {
   "cell_type": "code",
   "execution_count": 357,
   "id": "4758c082",
   "metadata": {},
   "outputs": [
    {
     "data": {
      "text/plain": [
       "[26*x^2 + 21*x + 38,\n",
       " 39*x^2 + 40*x + 6,\n",
       " 18*x^2 + 26*x + 30,\n",
       " 34*x^2 + 26*x + 35,\n",
       " 11*x^2 + 33*x + 23]"
      ]
     },
     "execution_count": 357,
     "metadata": {},
     "output_type": "execute_result"
    }
   ],
   "source": [
    "converted_samples"
   ]
  }
 ],
 "metadata": {
  "kernelspec": {
   "display_name": "SageMath 9.5",
   "language": "sage",
   "name": "sagemath"
  },
  "language_info": {
   "codemirror_mode": {
    "name": "ipython",
    "version": 3
   },
   "file_extension": ".py",
   "mimetype": "text/x-python",
   "name": "python",
   "nbconvert_exporter": "python",
   "pygments_lexer": "ipython3",
   "version": "3.10.6"
  }
 },
 "nbformat": 4,
 "nbformat_minor": 5
}
