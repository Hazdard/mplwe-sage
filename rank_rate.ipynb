{
 "cells": [
  {
   "cell_type": "code",
   "execution_count": 22,
   "id": "c656f17a",
   "metadata": {},
   "outputs": [],
   "source": [
    "from sage.modules.free_module_integer import IntegerLattice\n",
    "\n",
    "p=17\n",
    "n=4\n",
    "d=n//2\n",
    "t=int(log(n))"
   ]
  },
  {
   "cell_type": "code",
   "execution_count": 23,
   "id": "45fd0158",
   "metadata": {},
   "outputs": [],
   "source": [
    "Zp.<x>=PolynomialRing(Integers(p))"
   ]
  },
  {
   "cell_type": "code",
   "execution_count": 24,
   "id": "75dd2520",
   "metadata": {},
   "outputs": [
    {
     "data": {
      "text/plain": [
       "[ 7  0]\n",
       "[10  7]\n",
       "[11 10]\n",
       "[13 11]\n",
       "[ 0 13]"
      ]
     },
     "execution_count": 24,
     "metadata": {},
     "output_type": "execute_result"
    }
   ],
   "source": [
    "matrix.toeplitz(list(Zp.random_element(n-1))+([0]*(d-1)),[0]*(d-1))"
   ]
  },
  {
   "cell_type": "code",
   "execution_count": 27,
   "id": "be9a9c62",
   "metadata": {},
   "outputs": [],
   "source": [
    "def rank(t):\n",
    "    M=matrix.toeplitz(list(Zp.random_element(n-1))+([0]*(d-1)),[0]*(d-1))\n",
    "    for i in range(t-1):\n",
    "        M=M.augment(matrix.toeplitz(list(Zp.random_element(n-1))+([0]*(d-1)),[0]*(d-1)))\n",
    "    return (M.transpose()).rank()"
   ]
  },
  {
   "cell_type": "code",
   "execution_count": 29,
   "id": "d25ef1da",
   "metadata": {},
   "outputs": [],
   "source": [
    "max=15\n",
    "\n",
    "L=[]\n",
    "s=0\n",
    "for i in range(4,max+1) :\n",
    "    n=i\n",
    "    p=next_prime(int(n**(2.5)))\n",
    "    d=n//2\n",
    "    t=int(log(n))\n",
    "    Zp.<x>=PolynomialRing(Integers(p))\n",
    "    a=rank(t)\n",
    "    s+=a\n",
    "    L.append(s/(i-3))"
   ]
  }
 ],
 "metadata": {
  "kernelspec": {
   "display_name": "SageMath 9.5",
   "language": "sage",
   "name": "sagemath"
  },
  "language_info": {
   "codemirror_mode": {
    "name": "ipython",
    "version": 3
   },
   "file_extension": ".py",
   "mimetype": "text/x-python",
   "name": "python",
   "nbconvert_exporter": "python",
   "pygments_lexer": "ipython3",
   "version": "3.10.6"
  }
 },
 "nbformat": 4,
 "nbformat_minor": 5
}
