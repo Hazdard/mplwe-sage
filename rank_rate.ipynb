{
 "cells": [
  {
   "cell_type": "code",
   "execution_count": 1,
   "id": "b4ca8dd3",
   "metadata": {},
   "outputs": [],
   "source": [
    "from sage.modules.free_module_integer import IntegerLattice\n",
    "import numpy as np\n",
    "import matplotlib.pyplot as plt\n",
    "\n",
    "p=17\n",
    "n=4\n",
    "d=n//2\n",
    "t=int(log(n))"
   ]
  },
  {
   "cell_type": "code",
   "execution_count": 2,
   "id": "3e721ac1",
   "metadata": {},
   "outputs": [],
   "source": [
    "Zp.<x>=PolynomialRing(Integers(p))"
   ]
  },
  {
   "cell_type": "code",
   "execution_count": 3,
   "id": "ffec7183",
   "metadata": {},
   "outputs": [
    {
     "data": {
      "text/plain": [
       "[ 3  0]\n",
       "[14  3]\n",
       "[ 4 14]\n",
       "[14  4]\n",
       "[ 0 14]"
      ]
     },
     "execution_count": 3,
     "metadata": {},
     "output_type": "execute_result"
    }
   ],
   "source": [
    "matrix.toeplitz(list(Zp.random_element(n-1))+([0]*(d-1)),[0]*(d-1))"
   ]
  },
  {
   "cell_type": "code",
   "execution_count": 4,
   "id": "a39130aa",
   "metadata": {},
   "outputs": [],
   "source": [
    "def rank(t):\n",
    "    M=matrix.toeplitz(list(Zp.random_element(n-1))+([0]*(d-1)),[0]*(d-1))\n",
    "    for i in range(t-1):\n",
    "        M=M.augment(matrix.toeplitz(list(Zp.random_element(n-1))+([0]*(d-1)),[0]*(d-1)))\n",
    "    return (M.transpose()).rank()\n"
   ]
  },
  {
   "cell_type": "code",
   "execution_count": 24,
   "id": "eba51a98",
   "metadata": {},
   "outputs": [
    {
     "name": "stdout",
     "output_type": "stream",
     "text": [
      "--- Paramètres ---\n",
      "n : 22\n",
      "d : 11\n",
      "t : 3\n",
      "p : 71\n",
      "--- Dimensions ---\n",
      "Nombre de colonnes : 32\n",
      "Nombre de lignes : 33\n"
     ]
    }
   ],
   "source": [
    "# Il faut n => 21 et n pair sinon ça marche pas\n",
    "puiss = 1  # normalement vaut 2.5 dans le schema, mais dans ce cas il y a trop peu de matrices de rang non plein\n",
    "n=22\n",
    "p=next_prime(int((n**(puiss))*log(n)))\n",
    "d=n//2\n",
    "t=int(log(n))\n",
    "Zp.<x>=PolynomialRing(Integers(p))\n",
    "print(\"--- Paramètres ---\")\n",
    "print(\"n :\",n)\n",
    "print(\"d :\",d)\n",
    "print(\"t :\",t)\n",
    "print(\"p :\",p)\n",
    "print(\"--- Dimensions ---\")\n",
    "print(\"Nombre de colonnes :\",n+d-1)\n",
    "print(\"Nombre de lignes :\",t*d)"
   ]
  },
  {
   "cell_type": "code",
   "execution_count": 20,
   "id": "c8b2e5b7",
   "metadata": {},
   "outputs": [
    {
     "name": "stdout",
     "output_type": "stream",
     "text": [
      "--- Début ---\n",
      "Nombre d'itérations : 74\n",
      "--- Fin ! ---\n"
     ]
    }
   ],
   "source": [
    "# Boucle jusqu'à trouver une matrice qui n'est pas de rang plein\n",
    "\n",
    "cond=true\n",
    "iter=0\n",
    "print(\"--- Début ---\")\n",
    "while cond :\n",
    "    cond=(rank(t)==(n+d-1))\n",
    "    iter+=1\n",
    "print(\"Nombre d'itérations :\",iter)\n",
    "print(\"--- Fin ! ---\")"
   ]
  },
  {
   "cell_type": "code",
   "execution_count": 26,
   "id": "780125fa",
   "metadata": {},
   "outputs": [
    {
     "name": "stdout",
     "output_type": "stream",
     "text": [
      "--- Début ---\n",
      "Probabilité empirique : 0.999629000000000\n",
      "Nombre de matrices de rang non plein : 371\n",
      "--- Fin ! ---\n"
     ]
    }
   ],
   "source": [
    "# Résultats empiriques\n",
    "\n",
    "k=1000000\n",
    "L=[]\n",
    "s=0.0\n",
    "fail=0\n",
    "print(\"--- Début ---\")\n",
    "for i in range(k):\n",
    "    if rank(t)==(n+d-1):\n",
    "        s+=1\n",
    "    else :\n",
    "        fail +=1\n",
    "    L.append(s/(i+1))\n",
    "print(\"Probabilité empirique :\",s/k)\n",
    "print(\"Nombre de matrices de rang non plein :\",fail)\n",
    "print(\"--- Fin ! ---\")"
   ]
  },
  {
   "cell_type": "code",
   "execution_count": 21,
   "id": "a4d04d6e",
   "metadata": {},
   "outputs": [
    {
     "data": {
      "text/plain": [
       "0.135135135135135"
      ]
     },
     "execution_count": 21,
     "metadata": {},
     "output_type": "execute_result"
    }
   ],
   "source": [
    "# Calcul de la borne obtenue dans la preuve\n",
    "\n",
    "RR(1 - ((n+d-1)/p)**(int(t/(int((n+d-1)/d)+1))))"
   ]
  },
  {
   "cell_type": "code",
   "execution_count": 25,
   "id": "069aa3a7",
   "metadata": {},
   "outputs": [
    {
     "name": "stdout",
     "output_type": "stream",
     "text": [
      "0.999798793318822\n"
     ]
    }
   ],
   "source": [
    "# Proba pour des matrices uniformes (formule exacte)\n",
    "\n",
    "prod=1.0\n",
    "for i in range(n+d-1):\n",
    "    prod*=(1-1/(p**(t*d-i))) \n",
    "print(prod)"
   ]
  }
 ],
 "metadata": {
  "kernelspec": {
   "display_name": "SageMath 9.5",
   "language": "sage",
   "name": "sagemath"
  },
  "language_info": {
   "codemirror_mode": {
    "name": "ipython",
    "version": 3
   },
   "file_extension": ".py",
   "mimetype": "text/x-python",
   "name": "python",
   "nbconvert_exporter": "python",
   "pygments_lexer": "ipython3",
   "version": "3.10.6"
  }
 },
 "nbformat": 4,
 "nbformat_minor": 5
}
