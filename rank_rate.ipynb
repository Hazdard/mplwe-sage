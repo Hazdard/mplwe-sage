{
 "cells": [
  {
   "cell_type": "code",
   "execution_count": 1,
   "id": "b4ca8dd3",
   "metadata": {},
   "outputs": [],
   "source": [
    "from sage.modules.free_module_integer import IntegerLattice\n",
    "import numpy as np\n",
    "import matplotlib.pyplot as plt\n",
    "\n",
    "p=17\n",
    "n=4\n",
    "d=n//2\n",
    "t=int(log(n))"
   ]
  },
  {
   "cell_type": "code",
   "execution_count": 2,
   "id": "3e721ac1",
   "metadata": {},
   "outputs": [],
   "source": [
    "Zp.<x>=PolynomialRing(Integers(p))"
   ]
  },
  {
   "cell_type": "code",
   "execution_count": 3,
   "id": "ffec7183",
   "metadata": {},
   "outputs": [
    {
     "data": {
      "text/plain": [
       "[ 7  0]\n",
       "[ 9  7]\n",
       "[ 3  9]\n",
       "[11  3]\n",
       "[ 0 11]"
      ]
     },
     "execution_count": 3,
     "metadata": {},
     "output_type": "execute_result"
    }
   ],
   "source": [
    "matrix.toeplitz(list(Zp.random_element(n-1))+([0]*(d-1)),[0]*(d-1))"
   ]
  },
  {
   "cell_type": "code",
   "execution_count": 4,
   "id": "a39130aa",
   "metadata": {},
   "outputs": [],
   "source": [
    "def rank(t):\n",
    "    M=matrix.toeplitz(list(Zp.random_element(n-1))+([0]*(d-1)),[0]*(d-1))\n",
    "    for i in range(t-1):\n",
    "        M=M.augment(matrix.toeplitz(list(Zp.random_element(n-1))+([0]*(d-1)),[0]*(d-1)))\n",
    "    return (M.transpose()).rank()\n"
   ]
  },
  {
   "cell_type": "code",
   "execution_count": 206,
   "id": "eba51a98",
   "metadata": {},
   "outputs": [
    {
     "name": "stdout",
     "output_type": "stream",
     "text": [
      "22\n",
      "11\n",
      "3\n",
      "71\n",
      "32\n"
     ]
    }
   ],
   "source": [
    "# Il faut n => 21 et n pair sinon ça marche pas\n",
    "puiss = 1  # normalement vaut 2.5 dans le schema, \n",
    "n=22\n",
    "p=next_prime(int((n**(puiss))*log(n)))\n",
    "d=n//2\n",
    "t=int(log(n))\n",
    "Zp.<x>=PolynomialRing(Integers(p))\n",
    "print(n)\n",
    "print(d)\n",
    "print(t)\n",
    "print(p)\n",
    "print(rank(t))"
   ]
  },
  {
   "cell_type": "code",
   "execution_count": 207,
   "id": "c8b2e5b7",
   "metadata": {},
   "outputs": [
    {
     "name": "stdout",
     "output_type": "stream",
     "text": [
      "--- Début ---\n",
      "1133\n",
      "--- Fin ! ---\n"
     ]
    }
   ],
   "source": [
    "# Boucle jusqu'à trouver une matrice qui n'est pas de rang plein\n",
    "\n",
    "cond=true\n",
    "iter=0\n",
    "print(\"--- Début ---\")\n",
    "while cond :\n",
    "    cond=(rank(t)==(n+d-1))\n",
    "    iter+=1\n",
    "print(iter)\n",
    "print(\"--- Fin ! ---\")"
   ]
  },
  {
   "cell_type": "code",
   "execution_count": 208,
   "id": "276c602d",
   "metadata": {},
   "outputs": [
    {
     "name": "stdout",
     "output_type": "stream",
     "text": [
      "--- Début ---\n",
      "0.999800000000000 2\n",
      "--- Fin ! ---\n"
     ]
    }
   ],
   "source": [
    "# Résultats empiriques\n",
    "\n",
    "k=10000\n",
    "L=[]\n",
    "s=0.0\n",
    "fail=0\n",
    "print(\"--- Début ---\")\n",
    "for i in range(k):\n",
    "    if rank(t)==(n+d-1):\n",
    "        s+=1\n",
    "    else :\n",
    "        fail +=1\n",
    "    L.append(s/(i+1))\n",
    "print(s/k,fail)\n",
    "print(\"--- Fin ! ---\")"
   ]
  },
  {
   "cell_type": "code",
   "execution_count": 209,
   "id": "bddafa86",
   "metadata": {},
   "outputs": [
    {
     "data": {
      "text/plain": [
       "0.549295774647887"
      ]
     },
     "execution_count": 209,
     "metadata": {},
     "output_type": "execute_result"
    }
   ],
   "source": [
    "# Calcul de la borne obtenue dans la preuve\n",
    "\n",
    "RR(1 - ((n+d-1)/p)**(int(t/(int((n+d-1)/d)+1))))"
   ]
  },
  {
   "cell_type": "code",
   "execution_count": 210,
   "id": "069aa3a7",
   "metadata": {},
   "outputs": [
    {
     "name": "stdout",
     "output_type": "stream",
     "text": [
      "0.999798793318822\n"
     ]
    }
   ],
   "source": [
    "# Proba pour des matrices uniformes (formule exacte)\n",
    "\n",
    "prod=1.0\n",
    "for i in range(n+d-1):\n",
    "    prod*=(1-1/(p**(t*d-i))) \n",
    "print(prod)"
   ]
  }
 ],
 "metadata": {
  "kernelspec": {
   "display_name": "SageMath 9.5",
   "language": "sage",
   "name": "sagemath"
  },
  "language_info": {
   "codemirror_mode": {
    "name": "ipython",
    "version": 3
   },
   "file_extension": ".py",
   "mimetype": "text/x-python",
   "name": "python",
   "nbconvert_exporter": "python",
   "pygments_lexer": "ipython3",
   "version": "3.10.6"
  }
 },
 "nbformat": 4,
 "nbformat_minor": 5
}
