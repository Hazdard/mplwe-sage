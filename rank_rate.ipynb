{
 "cells": [
  {
   "cell_type": "code",
   "execution_count": 41,
   "id": "b4ca8dd3",
   "metadata": {},
   "outputs": [],
   "source": [
    "from sage.modules.free_module_integer import IntegerLattice\n",
    "import numpy as np\n",
    "import matplotlib.pyplot as plt\n",
    "\n",
    "p=17\n",
    "n=4\n",
    "d=n//2\n",
    "t=int(log(n))"
   ]
  },
  {
   "cell_type": "code",
   "execution_count": 42,
   "id": "3e721ac1",
   "metadata": {},
   "outputs": [],
   "source": [
    "Zp.<x>=PolynomialRing(Integers(p))"
   ]
  },
  {
   "cell_type": "code",
   "execution_count": 43,
   "id": "ffec7183",
   "metadata": {},
   "outputs": [
    {
     "data": {
      "text/plain": [
       "[ 4  0]\n",
       "[14  4]\n",
       "[ 7 14]\n",
       "[ 9  7]\n",
       "[ 0  9]"
      ]
     },
     "execution_count": 43,
     "metadata": {},
     "output_type": "execute_result"
    }
   ],
   "source": [
    "matrix.toeplitz(list(Zp.random_element(n-1))+([0]*(d-1)),[0]*(d-1))"
   ]
  },
  {
   "cell_type": "code",
   "execution_count": 44,
   "id": "a39130aa",
   "metadata": {},
   "outputs": [],
   "source": [
    "def rank(t):\n",
    "    M=matrix.toeplitz(list(Zp.random_element(n-1))+([0]*(d-1)),[0]*(d-1))\n",
    "    for i in range(t-1):\n",
    "        M=M.augment(matrix.toeplitz(list(Zp.random_element(n-1))+([0]*(d-1)),[0]*(d-1)))\n",
    "    return (M.transpose()).rank()\n"
   ]
  },
  {
   "cell_type": "code",
   "execution_count": 45,
   "id": "eba51a98",
   "metadata": {},
   "outputs": [],
   "source": [
    "max=32\n",
    "nb=5\n",
    "L=[]\n",
    "s=0\n",
    "for i in range(21,max+1) :\n",
    "    \n",
    "    n=i\n",
    "    p=next_prime(int(n**(1)))\n",
    "    d=n//2\n",
    "    t=int(log(n))\n",
    "    Zp.<x>=PolynomialRing(Integers(p))\n",
    "    \n",
    "    #m=0\n",
    "    #for i in range(nb):\n",
    "    #    if rank(t)==(n+d-1):\n",
    "      #      m+=1\n",
    "       # else:\n",
    "        #    print(\"boom\")\n",
    "    #avg=m/nb"
   ]
  },
  {
   "cell_type": "code",
   "execution_count": 46,
   "id": "c8b2e5b7",
   "metadata": {},
   "outputs": [
    {
     "name": "stdout",
     "output_type": "stream",
     "text": [
      "32\n",
      "16\n",
      "3\n",
      "37\n",
      "--- Début ---\n",
      "373\n",
      "--- Fin ! ---\n"
     ]
    }
   ],
   "source": [
    "cond=true\n",
    "iter=0\n",
    "print(n)\n",
    "print(d)\n",
    "print(t)\n",
    "print(p)\n",
    "print(\"--- Début ---\")\n",
    "while cond :\n",
    "    cond=(rank(3)==(n+d-1))\n",
    "    iter+=1\n",
    "print(iter)\n",
    "print(\"--- Fin ! ---\")"
   ]
  },
  {
   "cell_type": "code",
   "execution_count": 56,
   "id": "069aa3a7",
   "metadata": {},
   "outputs": [
    {
     "name": "stdout",
     "output_type": "stream",
     "text": [
      "0.999249264081523\n"
     ]
    }
   ],
   "source": [
    "prod=1.0\n",
    "for i in range(n+d-1):\n",
    "    prod*=(1-1/(p**(t*d-i))) \n",
    "print(prod)"
   ]
  }
 ],
 "metadata": {
  "kernelspec": {
   "display_name": "SageMath 9.5",
   "language": "sage",
   "name": "sagemath"
  },
  "language_info": {
   "codemirror_mode": {
    "name": "ipython",
    "version": 3
   },
   "file_extension": ".py",
   "mimetype": "text/x-python",
   "name": "python",
   "nbconvert_exporter": "python",
   "pygments_lexer": "ipython3",
   "version": "3.10.6"
  }
 },
 "nbformat": 4,
 "nbformat_minor": 5
}
