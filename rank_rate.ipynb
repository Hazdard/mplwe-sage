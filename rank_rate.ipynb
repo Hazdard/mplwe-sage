{
 "cells": [
  {
   "cell_type": "code",
   "execution_count": 1,
   "id": "b4ca8dd3",
   "metadata": {},
   "outputs": [],
   "source": [
    "from sage.modules.free_module_integer import IntegerLattice\n",
    "import numpy as np\n",
    "import matplotlib.pyplot as plt\n",
    "\n",
    "p=17\n",
    "n=4\n",
    "d=n//2\n",
    "t=int(log(n))"
   ]
  },
  {
   "cell_type": "code",
   "execution_count": 2,
   "id": "3e721ac1",
   "metadata": {},
   "outputs": [],
   "source": [
    "Zp.<x>=PolynomialRing(Integers(p))"
   ]
  },
  {
   "cell_type": "code",
   "execution_count": 3,
   "id": "ffec7183",
   "metadata": {},
   "outputs": [
    {
     "data": {
      "text/plain": [
       "[ 5  0]\n",
       "[ 3  5]\n",
       "[ 1  3]\n",
       "[10  1]\n",
       "[ 0 10]"
      ]
     },
     "execution_count": 3,
     "metadata": {},
     "output_type": "execute_result"
    }
   ],
   "source": [
    "matrix.toeplitz(list(Zp.random_element(n-1))+([0]*(d-1)),[0]*(d-1))"
   ]
  },
  {
   "cell_type": "code",
   "execution_count": 4,
   "id": "a39130aa",
   "metadata": {},
   "outputs": [],
   "source": [
    "def rank(t):\n",
    "    M=matrix.toeplitz(list(Zp.random_element(n-1))+([0]*(d-1)),[0]*(d-1))\n",
    "    for i in range(t-1):\n",
    "        M=M.augment(matrix.toeplitz(list(Zp.random_element(n-1))+([0]*(d-1)),[0]*(d-1)))\n",
    "    return (M.transpose()).rank()\n"
   ]
  },
  {
   "cell_type": "code",
   "execution_count": 10,
   "id": "eba51a98",
   "metadata": {},
   "outputs": [],
   "source": [
    "max=32\n",
    "nb=5\n",
    "L=[]\n",
    "s=0\n",
    "for i in range(21,max+1) :\n",
    "    \n",
    "    n=i\n",
    "    p=next_prime(int(n**(1.5)))\n",
    "    d=n//2\n",
    "    t=int(log(n))\n",
    "    Zp.<x>=PolynomialRing(Integers(p))\n",
    "    \n",
    "    m=0\n",
    "    for i in range(nb):\n",
    "        if rank(t)==(n+d-1):\n",
    "            m+=1\n",
    "        else:\n",
    "            print(\"boom\")\n",
    "    avg=m/nb"
   ]
  },
  {
   "cell_type": "code",
   "execution_count": 8,
   "id": "c8b2e5b7",
   "metadata": {},
   "outputs": [
    {
     "name": "stdout",
     "output_type": "stream",
     "text": [
      "32\n",
      "16\n",
      "3\n",
      "37\n",
      "--- Début ---\n",
      "boom\n",
      "24687\n"
     ]
    }
   ],
   "source": [
    "cond=true\n",
    "iter=0\n",
    "print(n)\n",
    "print(d)\n",
    "print(t)\n",
    "print(p)\n",
    "print(\"--- Début ---\")\n",
    "while cond :\n",
    "    cond=(rank(4)==(n+d-1))\n",
    "    iter+=1\n",
    "print(\"boom\")\n",
    "print(iter)"
   ]
  },
  {
   "cell_type": "code",
   "execution_count": 71,
   "id": "40063657",
   "metadata": {},
   "outputs": [
    {
     "data": {
      "text/plain": [
       "5"
      ]
     },
     "execution_count": 71,
     "metadata": {},
     "output_type": "execute_result"
    },
    {
     "data": {
      "image/png": "[encoded data removed]",
      "text/plain": [
       "<Figure size 432x288 with 1 Axes>"
      ]
     },
     "metadata": {
      "needs_background": "light"
     },
     "output_type": "display_data"
    }
   ],
   "source": [
    "plt.plot(range(21,max+1),L)"
   ]
  },
  {
   "cell_type": "code",
   "execution_count": 11,
   "id": "894c7e1a",
   "metadata": {},
   "outputs": [
    {
     "data": {
      "text/plain": [
       "47/191"
      ]
     },
     "execution_count": 11,
     "metadata": {},
     "output_type": "execute_result"
    }
   ],
   "source": [
    "((n+d-1)/p)**int(((t*d)/(n+d-1)))"
   ]
  }
 ],
 "metadata": {
  "kernelspec": {
   "display_name": "SageMath 9.5",
   "language": "sage",
   "name": "sagemath"
  },
  "language_info": {
   "codemirror_mode": {
    "name": "ipython",
    "version": 3
   },
   "file_extension": ".py",
   "mimetype": "text/x-python",
   "name": "python",
   "nbconvert_exporter": "python",
   "pygments_lexer": "ipython3",
   "version": "3.10.6"
  }
 },
 "nbformat": 4,
 "nbformat_minor": 5
}
